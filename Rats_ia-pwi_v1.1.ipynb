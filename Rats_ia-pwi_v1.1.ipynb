{
 "cells": [
  {
   "cell_type": "code",
   "execution_count": null,
   "metadata": {},
   "outputs": [],
   "source": [
    "import sys\n",
    "sys.executable"
   ]
  },
  {
   "cell_type": "code",
   "execution_count": null,
   "metadata": {},
   "outputs": [],
   "source": [
    "import seaborn as sns\n",
    "\n",
    "from scipy.signal import convolve2d\n",
    "from scipy.ndimage import median_filter\n",
    "from scipy.stats import spearmanr, pearsonr\n",
    "from statsmodels.regression.linear_model import OLS\n",
    "\n",
    "from scipy.ndimage import convolve\n",
    "from tqdm.notebook import tqdm\n",
    "import os\n",
    "import sys\n",
    "import pydicom\n",
    "import SimpleITK as sitk\n",
    "import PySimpleGUI as sg\n",
    "import numpy as np\n",
    "import matplotlib.pyplot as plt\n",
    "import nibabel as nib\n",
    "import nilearn\n",
    "from nilearn.image import resample_img\n",
    "import time\n",
    "from tqdm import tqdm\n",
    "from ipywidgets import interact, interactive, fixed, interact_manual\n",
    "import ipywidgets as widgets\n",
    "%matplotlib inline\n",
    "\n",
    "from IPython.display import clear_output\n",
    "import time\n",
    "from scipy import stats\n",
    "\n",
    "image_viewer = sitk.ImageViewer()\n",
    "image_viewer.SetApplication('C:/Program Files/ITK-SNAP 3.8/bin/ITK-SNAP')\n",
    "reader = sitk.ImageSeriesReader()\n",
    "reader.LoadPrivateTagsOn()\n",
    "\n",
    "import pickle\n",
    "with open('asist.pickle', 'rb') as file:\n",
    "    asist = pickle.load(file)\n",
    "    \n",
    "os.getcwd()"
   ]
  },
  {
   "cell_type": "code",
   "execution_count": null,
   "metadata": {},
   "outputs": [],
   "source": [
    "def start_plot():\n",
    "    global metric_values, multires_iterations\n",
    "    metric_values = []\n",
    "    multires_iterations = []\n",
    "def end_plot():\n",
    "    global metric_values, multires_iterations  \n",
    "    del metric_values\n",
    "    del multires_iterations\n",
    "    plt.close()\n",
    "def plot_values(registration_method):\n",
    "    global metric_values, multires_iterations \n",
    "    metric_values.append(registration_method.GetMetricValue())                                       \n",
    "    clear_output(wait=True)\n",
    "    plt.plot(metric_values, 'r')\n",
    "    plt.plot(multires_iterations, [metric_values[index] for index in multires_iterations], 'b*')\n",
    "    plt.xlabel('Iteration Number',fontsize=12)\n",
    "    plt.ylabel('Metric Value',fontsize=12)\n",
    "    plt.show()\n",
    "def update_multires_iterations():\n",
    "    global metric_values, multires_iterations\n",
    "    multires_iterations.append(len(metric_values)) "
   ]
  },
  {
   "cell_type": "code",
   "execution_count": null,
   "metadata": {},
   "outputs": [],
   "source": []
  },
  {
   "cell_type": "code",
   "execution_count": null,
   "metadata": {},
   "outputs": [],
   "source": []
  },
  {
   "cell_type": "code",
   "execution_count": null,
   "metadata": {},
   "outputs": [],
   "source": []
  },
  {
   "cell_type": "markdown",
   "metadata": {},
   "source": [
    "## [1]. sort DICOM to folder, calculate perfusion maps with PMA"
   ]
  },
  {
   "cell_type": "code",
   "execution_count": null,
   "metadata": {},
   "outputs": [],
   "source": []
  },
  {
   "cell_type": "markdown",
   "metadata": {},
   "source": [
    "## 2. convert DICOM to nifti"
   ]
  },
  {
   "cell_type": "code",
   "execution_count": null,
   "metadata": {},
   "outputs": [],
   "source": [
    "!dcm2niix --terse -f /../d_swi0 -b n -z n _swi0/\n",
    "!dcm2niix --terse -f /../d_swi1 -b n -z n _swi1/\n",
    "!dcm2niix --terse -f /../d_t2 -b n -z n _t2/\n",
    "!dcm2niix --terse -f /../d_pwi0 -b n -z n _pwi0/\n",
    "!dcm2niix --terse -f /../d_pwi/%d -b n -z n _pwi1-pma/"
   ]
  },
  {
   "cell_type": "code",
   "execution_count": null,
   "metadata": {},
   "outputs": [],
   "source": []
  },
  {
   "cell_type": "markdown",
   "metadata": {},
   "source": [
    "## 3. reg pwi0 to swi0, save transformation"
   ]
  },
  {
   "cell_type": "code",
   "execution_count": null,
   "metadata": {},
   "outputs": [],
   "source": [
    "fixed_img = './d_swi0.nii'\n",
    "moving_img_pwi = './d_pwi0.nii'\n",
    "fixed = sitk.ReadImage(fixed_img, sitk.sitkFloat32)\n",
    "moving = sitk.ReadImage(moving_img_pwi, sitk.sitkFloat32)"
   ]
  },
  {
   "cell_type": "code",
   "execution_count": null,
   "metadata": {},
   "outputs": [],
   "source": [
    "initial_transform = sitk.CenteredTransformInitializer(fixed, \n",
    "                                                      moving, \n",
    "                                                      sitk.Euler3DTransform(), \n",
    "                                                      sitk.CenteredTransformInitializerFilter.MOMENTS)"
   ]
  },
  {
   "cell_type": "code",
   "execution_count": null,
   "metadata": {},
   "outputs": [],
   "source": [
    "%%time\n",
    "registration_method = sitk.ImageRegistrationMethod()\n",
    "\n",
    "#registration_method.SetMetricAsANTSNeighborhoodCorrelation(radius=5)\n",
    "registration_method.SetMetricAsMattesMutualInformation(numberOfHistogramBins=50)\n",
    "registration_method.SetMetricSamplingStrategy(registration_method.RANDOM)\n",
    "registration_method.SetMetricSamplingPercentage(0.5)\n",
    "registration_method.SetInterpolator(sitk.sitkLinear)\n",
    "\n",
    "registration_method.SetOptimizerAsGradientDescent(learningRate=0.5, numberOfIterations=70, convergenceMinimumValue=1e-6, convergenceWindowSize=20)\n",
    "registration_method.SetOptimizerScalesFromPhysicalShift()\n",
    "#registration_method.SetOptimizerAsLBFGSB()\n",
    "\n",
    "# Setup for the multi-resolution framework.            \n",
    "registration_method.SetShrinkFactorsPerLevel(shrinkFactors = [4,3,2])\n",
    "registration_method.SetSmoothingSigmasPerLevel(smoothingSigmas=[6,3,2])\n",
    "#registration_method.SmoothingSigmasAreSpecifiedInPhysicalUnitsOn()\n",
    "\n",
    "# Don't optimize in-place, we would possibly like to run this cell multiple times.\n",
    "registration_method.SetInitialTransform(initial_transform, inPlace=False)\n",
    "\n",
    "# Connect all of the observers so that we can perform plotting during registration.\n",
    "registration_method.AddCommand(sitk.sitkStartEvent, start_plot)\n",
    "registration_method.AddCommand(sitk.sitkEndEvent, end_plot)\n",
    "registration_method.AddCommand(sitk.sitkMultiResolutionIterationEvent, update_multires_iterations) \n",
    "registration_method.AddCommand(sitk.sitkIterationEvent, lambda: plot_values(registration_method))\n",
    "\n",
    "final_transform = registration_method.Execute(sitk.Cast(fixed, sitk.sitkFloat32), \n",
    "                                              sitk.Cast(moving, sitk.sitkFloat32))"
   ]
  },
  {
   "cell_type": "code",
   "execution_count": null,
   "metadata": {},
   "outputs": [],
   "source": [
    "%%time\n",
    "sitk.WriteTransform(final_transform, 'transform_pwi0-swi0.tfm')\n",
    "fixed = sitk.ReadImage(fixed_img, sitk.sitkFloat32)\n",
    "moving = sitk.ReadImage(moving_img_pwi, sitk.sitkFloat32)\n",
    "moving_resampled = sitk.Resample(moving, fixed, final_transform, sitk.sitkBSpline, 0.0, moving.GetPixelID())"
   ]
  },
  {
   "cell_type": "code",
   "execution_count": null,
   "metadata": {},
   "outputs": [],
   "source": [
    "simg1 = sitk.Cast(sitk.RescaleIntensity(fixed), sitk.sitkUInt8)\n",
    "simg2 = sitk.Cast(sitk.RescaleIntensity(moving_resampled), sitk.sitkUInt8)\n",
    "cimg = sitk.Compose(simg1, simg2, simg1 // 2. + simg2 // 2.)\n",
    "array_cimg = sitk.GetArrayFromImage(cimg)\n",
    "plt.figure(figsize=(15,10))\n",
    "plt.subplot(331)\n",
    "plt.imshow(array_cimg[array_cimg.shape[0]//4,:,:,:], origin='lower', interpolation='bilinear', aspect='auto')\n",
    "plt.subplot(332)\n",
    "plt.imshow(array_cimg[array_cimg.shape[0]//3,:,:,:], origin='lower', interpolation='bilinear', aspect='auto')\n",
    "plt.subplot(333)\n",
    "plt.imshow(array_cimg[array_cimg.shape[0]//2,:,:,:], origin='lower', interpolation='bilinear', aspect='auto')\n",
    "plt.subplot(334)\n",
    "plt.imshow(array_cimg[:,array_cimg.shape[1]//2-15,:,:], origin='lower', interpolation='bilinear', aspect='auto')\n",
    "plt.subplot(335)\n",
    "plt.imshow(array_cimg[:,array_cimg.shape[1]//2,:,:], origin='lower', interpolation='bilinear', aspect='auto')\n",
    "plt.subplot(336)\n",
    "plt.imshow(array_cimg[:,array_cimg.shape[1]//2+15,:,:], origin='lower', interpolation='bilinear', aspect='auto')\n",
    "plt.subplot(337)\n",
    "plt.imshow(array_cimg[:,:,array_cimg.shape[2]//2-15,:], origin='lower', interpolation='bilinear', aspect='auto')\n",
    "plt.subplot(338)\n",
    "plt.imshow(array_cimg[:,:,array_cimg.shape[2]//2,:], origin='lower', interpolation='bilinear', aspect='auto')\n",
    "plt.subplot(339)\n",
    "plt.imshow(array_cimg[:,:,array_cimg.shape[2]//2+15,:], origin='lower', interpolation='bilinear', aspect='auto')\n",
    "print('Final metric value: {0}'.format(registration_method.GetMetricValue()))"
   ]
  },
  {
   "cell_type": "code",
   "execution_count": null,
   "metadata": {},
   "outputs": [],
   "source": []
  },
  {
   "cell_type": "markdown",
   "metadata": {},
   "source": [
    "## 4. reg all pwi1 maps to swi0 with transformation"
   ]
  },
  {
   "cell_type": "code",
   "execution_count": null,
   "metadata": {},
   "outputs": [],
   "source": [
    "fixed_img = './d_swi0.nii'\n",
    "fixed = sitk.ReadImage(fixed_img, sitk.sitkFloat32)\n",
    "final_transform = sitk.ReadTransform('transform_pwi0-swi0.tfm')"
   ]
  },
  {
   "cell_type": "code",
   "execution_count": null,
   "metadata": {},
   "outputs": [],
   "source": [
    "list = ['BAT', 'BET', 'CBF-sSVD', 'CBV-sSVD', 'CBV-AUC', 'MTT-sSVD', 'Tmax-sSVD', 'NEI', 'dSoverS', 'Cmax', 'FWHM', 'MS', 'TTP', 'fMTT_with_DC', 'fMTT_without_DC']"
   ]
  },
  {
   "cell_type": "code",
   "execution_count": null,
   "metadata": {},
   "outputs": [],
   "source": [
    "os.mkdir('r_pwi')"
   ]
  },
  {
   "cell_type": "code",
   "execution_count": null,
   "metadata": {},
   "outputs": [],
   "source": [
    "%%time\n",
    "for perf_map in list:\n",
    "    name = './d_pwi/' + perf_map + '.nii'\n",
    "    name2 = './r_pwi/' + perf_map + '.nii'\n",
    "    moving = sitk.ReadImage(name, sitk.sitkFloat32)\n",
    "    moving_resampled = sitk.Resample(moving, fixed, final_transform, sitk.sitkBSpline, 0.0, moving.GetPixelID())\n",
    "    sitk.WriteImage(moving_resampled, name2)"
   ]
  },
  {
   "cell_type": "code",
   "execution_count": null,
   "metadata": {},
   "outputs": [],
   "source": []
  },
  {
   "cell_type": "markdown",
   "metadata": {},
   "source": [
    "## 5. reg swi1 to swi0"
   ]
  },
  {
   "cell_type": "code",
   "execution_count": null,
   "metadata": {},
   "outputs": [],
   "source": [
    "fixed_img = './d_swi0.nii'\n",
    "fixed = sitk.ReadImage(fixed_img, sitk.sitkFloat32)\n",
    "moving_img_swi = './d_swi1.nii'\n",
    "moving = sitk.ReadImage(moving_img_swi, sitk.sitkFloat32)"
   ]
  },
  {
   "cell_type": "code",
   "execution_count": null,
   "metadata": {},
   "outputs": [],
   "source": [
    "initial_transform = sitk.CenteredTransformInitializer(fixed, \n",
    "                                                      moving, \n",
    "                                                      sitk.Euler3DTransform(), \n",
    "                                                      sitk.CenteredTransformInitializerFilter.MOMENTS)"
   ]
  },
  {
   "cell_type": "code",
   "execution_count": null,
   "metadata": {},
   "outputs": [],
   "source": [
    "%%time\n",
    "registration_method = sitk.ImageRegistrationMethod()\n",
    "\n",
    "#registration_method.SetMetricAsANTSNeighborhoodCorrelation(radius=5)\n",
    "registration_method.SetMetricAsMattesMutualInformation(numberOfHistogramBins=50)\n",
    "registration_method.SetMetricSamplingStrategy(registration_method.RANDOM)\n",
    "registration_method.SetMetricSamplingPercentage(0.9)\n",
    "registration_method.SetInterpolator(sitk.sitkLinear)\n",
    "\n",
    "registration_method.SetOptimizerAsGradientDescent(learningRate=0.5, numberOfIterations=70, convergenceMinimumValue=1e-6, convergenceWindowSize=20)\n",
    "registration_method.SetOptimizerScalesFromPhysicalShift()\n",
    "#registration_method.SetOptimizerAsLBFGSB()\n",
    "\n",
    "# Setup for the multi-resolution framework.            \n",
    "registration_method.SetShrinkFactorsPerLevel(shrinkFactors = [2,2,2])\n",
    "registration_method.SetSmoothingSigmasPerLevel(smoothingSigmas=[2,2,1])\n",
    "#registration_method.SmoothingSigmasAreSpecifiedInPhysicalUnitsOn()\n",
    "\n",
    "# Don't optimize in-place, we would possibly like to run this cell multiple times.\n",
    "registration_method.SetInitialTransform(initial_transform, inPlace=False)\n",
    "\n",
    "# Connect all of the observers so that we can perform plotting during registration.\n",
    "registration_method.AddCommand(sitk.sitkStartEvent, start_plot)\n",
    "registration_method.AddCommand(sitk.sitkEndEvent, end_plot)\n",
    "registration_method.AddCommand(sitk.sitkMultiResolutionIterationEvent, update_multires_iterations) \n",
    "registration_method.AddCommand(sitk.sitkIterationEvent, lambda: plot_values(registration_method))\n",
    "\n",
    "final_transform = registration_method.Execute(sitk.Cast(fixed, sitk.sitkFloat32), \n",
    "                                              sitk.Cast(moving, sitk.sitkFloat32))"
   ]
  },
  {
   "cell_type": "code",
   "execution_count": null,
   "metadata": {},
   "outputs": [],
   "source": [
    "%%time\n",
    "fixed = sitk.ReadImage(fixed_img, sitk.sitkFloat32)\n",
    "moving = sitk.ReadImage(moving_img_swi, sitk.sitkFloat32)\n",
    "moving_resampled = sitk.Resample(moving, fixed, final_transform, sitk.sitkBSpline, 0.0, moving.GetPixelID())"
   ]
  },
  {
   "cell_type": "code",
   "execution_count": null,
   "metadata": {},
   "outputs": [],
   "source": [
    "simg1 = sitk.Cast(sitk.RescaleIntensity(fixed), sitk.sitkUInt8)\n",
    "simg2 = sitk.Cast(sitk.RescaleIntensity(moving_resampled), sitk.sitkUInt8)\n",
    "cimg = sitk.Compose(simg1, simg2, simg1 // 2. + simg2 // 2.)\n",
    "array_cimg = sitk.GetArrayFromImage(cimg)\n",
    "plt.figure(figsize=(15,10))\n",
    "plt.subplot(331)\n",
    "plt.imshow(array_cimg[array_cimg.shape[0]//4,:,:,:], origin='lower', interpolation='bilinear', aspect='auto')\n",
    "plt.subplot(332)\n",
    "plt.imshow(array_cimg[array_cimg.shape[0]//3,:,:,:], origin='lower', interpolation='bilinear', aspect='auto')\n",
    "plt.subplot(333)\n",
    "plt.imshow(array_cimg[array_cimg.shape[0]//2,:,:,:], origin='lower', interpolation='bilinear', aspect='auto')\n",
    "plt.subplot(334)\n",
    "plt.imshow(array_cimg[:,array_cimg.shape[1]//2-15,:,:], origin='lower', interpolation='bilinear', aspect='auto')\n",
    "plt.subplot(335)\n",
    "plt.imshow(array_cimg[:,array_cimg.shape[1]//2,:,:], origin='lower', interpolation='bilinear', aspect='auto')\n",
    "plt.subplot(336)\n",
    "plt.imshow(array_cimg[:,array_cimg.shape[1]//2+15,:,:], origin='lower', interpolation='bilinear', aspect='auto')\n",
    "plt.subplot(337)\n",
    "plt.imshow(array_cimg[:,:,array_cimg.shape[2]//2-15,:], origin='lower', interpolation='bilinear', aspect='auto')\n",
    "plt.subplot(338)\n",
    "plt.imshow(array_cimg[:,:,array_cimg.shape[2]//2,:], origin='lower', interpolation='bilinear', aspect='auto')\n",
    "plt.subplot(339)\n",
    "plt.imshow(array_cimg[:,:,array_cimg.shape[2]//2+15,:], origin='lower', interpolation='bilinear', aspect='auto')\n",
    "print('Final metric value: {0}'.format(registration_method.GetMetricValue()))"
   ]
  },
  {
   "cell_type": "code",
   "execution_count": null,
   "metadata": {},
   "outputs": [],
   "source": [
    "sitk.WriteImage(moving_resampled, './r_swi1.nii')"
   ]
  },
  {
   "cell_type": "code",
   "execution_count": null,
   "metadata": {},
   "outputs": [],
   "source": []
  },
  {
   "cell_type": "markdown",
   "metadata": {},
   "source": [
    "## 6. calculate cells distribution"
   ]
  },
  {
   "cell_type": "code",
   "execution_count": null,
   "metadata": {},
   "outputs": [],
   "source": [
    "swi0_img = nib.load('./d_swi0.nii')\n",
    "swi1_img = nib.load('./r_swi1.nii')\n",
    "swi0_array = swi0_img.get_fdata()\n",
    "swi1_array = swi1_img.get_fdata()"
   ]
  },
  {
   "cell_type": "code",
   "execution_count": null,
   "metadata": {},
   "outputs": [],
   "source": [
    "swi2_array = (swi0_array*10)/np.median(swi0_array) - (swi1_array*10)/np.median(swi1_array)\n",
    "limit = np.mean(swi0_array)\n",
    "swi2l_array = swi2_array > limit*.5\n",
    "swi2l_array[swi2l_array>0]=1"
   ]
  },
  {
   "cell_type": "code",
   "execution_count": null,
   "metadata": {},
   "outputs": [],
   "source": [
    "slice = 200\n",
    "img = swi0_array[:,:,slice]\n",
    "img1 = swi1_array[:,:,slice]\n",
    "img2 = swi2l_array[:,:,slice]\n",
    "plt.figure(figsize=(15,10))\n",
    "plt.subplot(131)\n",
    "plt.imshow(img)\n",
    "plt.subplot(132)\n",
    "plt.imshow(img1)\n",
    "plt.subplot(133)\n",
    "plt.imshow(img2)\n",
    "plt.imshow(img1, alpha=0.5)"
   ]
  },
  {
   "cell_type": "code",
   "execution_count": null,
   "metadata": {},
   "outputs": [],
   "source": [
    "r_cells = nib.Nifti1Image(swi2l_array*1, swi0_img.affine)\n",
    "nib.save(r_cells, 'r_cells.nii')"
   ]
  },
  {
   "cell_type": "code",
   "execution_count": null,
   "metadata": {},
   "outputs": [],
   "source": []
  },
  {
   "cell_type": "markdown",
   "metadata": {},
   "source": [
    "## [7]. cteate brain mask from t2iso with U-Net"
   ]
  },
  {
   "cell_type": "code",
   "execution_count": null,
   "metadata": {},
   "outputs": [],
   "source": []
  },
  {
   "cell_type": "markdown",
   "metadata": {},
   "source": [
    "## 8. brain mask resample to swi0"
   ]
  },
  {
   "cell_type": "code",
   "execution_count": null,
   "metadata": {},
   "outputs": [],
   "source": [
    "swi0_img = nib.load('./d_swi0.nii')\n",
    "t2_img = nib.load('./md_t2.nii')\n",
    "swi0_array = swi0_img.get_fdata()\n",
    "t2_array = t2_img.get_fdata()"
   ]
  },
  {
   "cell_type": "code",
   "execution_count": null,
   "metadata": {},
   "outputs": [],
   "source": [
    "t2_resampled = resample_img(t2_img, target_affine=swi0_img.affine, target_shape=swi0_img.shape)"
   ]
  },
  {
   "cell_type": "code",
   "execution_count": null,
   "metadata": {},
   "outputs": [],
   "source": [
    "t2_resampled_array = t2_resampled.get_fdata()\n",
    "img = nib.Nifti1Image(t2_resampled_array, swi0_img.affine)\n",
    "nib.save(img, './rmd_t2.nii')"
   ]
  },
  {
   "cell_type": "code",
   "execution_count": null,
   "metadata": {},
   "outputs": [],
   "source": []
  },
  {
   "cell_type": "markdown",
   "metadata": {},
   "source": [
    "## [9]. clean mask with slicer"
   ]
  },
  {
   "cell_type": "code",
   "execution_count": null,
   "metadata": {},
   "outputs": [],
   "source": []
  },
  {
   "cell_type": "markdown",
   "metadata": {},
   "source": [
    "## 10. mask to cell"
   ]
  },
  {
   "cell_type": "code",
   "execution_count": null,
   "metadata": {},
   "outputs": [],
   "source": [
    "mask_img = nib.load('mask.nii')\n",
    "cell_img = nib.load('r_cells.nii')\n",
    "mask_array = mask_img.get_fdata()\n",
    "cell_array = cell_img.get_fdata()"
   ]
  },
  {
   "cell_type": "code",
   "execution_count": null,
   "metadata": {},
   "outputs": [],
   "source": [
    "cell_array[mask_array<1]=0"
   ]
  },
  {
   "cell_type": "code",
   "execution_count": null,
   "metadata": {},
   "outputs": [],
   "source": [
    "mr_cells = nib.Nifti1Image(cell_array, cell_img.affine)\n",
    "nib.save(mr_cells, 'mr_cells')"
   ]
  },
  {
   "cell_type": "code",
   "execution_count": null,
   "metadata": {},
   "outputs": [],
   "source": []
  },
  {
   "cell_type": "markdown",
   "metadata": {},
   "source": [
    "## [11]. clean cell map with itk-SNAP"
   ]
  },
  {
   "cell_type": "code",
   "execution_count": null,
   "metadata": {},
   "outputs": [],
   "source": []
  },
  {
   "cell_type": "markdown",
   "metadata": {},
   "source": [
    "## 12. load cell and pwi with mask "
   ]
  },
  {
   "cell_type": "code",
   "execution_count": null,
   "metadata": {},
   "outputs": [],
   "source": [
    "mask_img = nib.load('mask.nii')\n",
    "cell_fin_img = nib.load('smr_cells.nii')\n",
    "mask_ar = mask_img.get_fdata()\n",
    "cell_ar = cell_fin_img.get_fdata()\n",
    "list = ['BAT', 'BET', 'CBF-sSVD', 'CBV-sSVD', 'CBV-AUC', 'MTT-sSVD', 'Tmax-sSVD', 'NEI', 'dSoverS', 'Cmax', 'FWHM', 'MS', 'TTP', 'fMTT_with_DC', 'fMTT_without_DC']"
   ]
  },
  {
   "cell_type": "code",
   "execution_count": null,
   "metadata": {},
   "outputs": [],
   "source": [
    "map_ar = {}\n",
    "map_ar_m = {}\n",
    "for perf_map in list:\n",
    "    name = f'./r_pwi/{perf_map}.nii'\n",
    "    map_img = nib.load(name)\n",
    "    map_ar[perf_map] = map_img.get_fdata()\n",
    "    map_ar_m[perf_map] = map_ar[perf_map].copy()\n",
    "    map_ar_m[perf_map][mask_ar<1] = 0"
   ]
  },
  {
   "cell_type": "code",
   "execution_count": null,
   "metadata": {},
   "outputs": [],
   "source": [
    "nmap = 'CBF-sSVD'\n",
    "n_slice=200\n",
    "plt.figure(figsize=(10,10))\n",
    "plt.subplot(141)\n",
    "plt.imshow(map_ar[nmap][:,:,n_slice], cmap=asist)\n",
    "plt.subplot(142)\n",
    "plt.imshow(mask_ar[:,:,n_slice])\n",
    "plt.subplot(143)\n",
    "plt.imshow(cell_ar[:,:,n_slice])\n",
    "plt.subplot(144)\n",
    "plt.imshow(map_ar_m[nmap][:,:,n_slice], cmap=asist)\n",
    "plt.imshow(cell_ar[:,:,n_slice], alpha=0.5)"
   ]
  },
  {
   "cell_type": "code",
   "execution_count": null,
   "metadata": {},
   "outputs": [],
   "source": []
  },
  {
   "cell_type": "markdown",
   "metadata": {},
   "source": [
    "## 13. Density map of cell and median filter for pwi"
   ]
  },
  {
   "cell_type": "code",
   "execution_count": null,
   "metadata": {},
   "outputs": [],
   "source": [
    "list = ['BAT', 'BET', 'CBF-sSVD', 'CBV-sSVD', 'CBV-AUC', 'MTT-sSVD', 'Tmax-sSVD', 'NEI', 'dSoverS', 'Cmax', 'FWHM', 'MS', 'TTP', 'fMTT_with_DC', 'fMTT_without_DC']"
   ]
  },
  {
   "cell_type": "code",
   "execution_count": null,
   "metadata": {
    "scrolled": true
   },
   "outputs": [],
   "source": [
    "kernel_size_cell = 11\n",
    "kernel = np.ones((kernel_size_cell, kernel_size_cell, kernel_size_cell))\n",
    "cell_ar_map = convolve(cell_ar, kernel, mode='constant', cval=0)\n",
    "cell_ar_map[mask_ar<1] = 0"
   ]
  },
  {
   "cell_type": "code",
   "execution_count": null,
   "metadata": {},
   "outputs": [],
   "source": [
    "kernel_size = 5\n",
    "perf_map_blurred = {}\n",
    "for perf_map in tqdm(list):\n",
    "    perf_map_blurred[perf_map] = median_filter(map_ar_m[perf_map], size=[kernel_size, kernel_size, kernel_size])\n",
    "    perf_map_blurred[perf_map][mask_ar<1] = 0"
   ]
  },
  {
   "cell_type": "code",
   "execution_count": null,
   "metadata": {},
   "outputs": [],
   "source": [
    "nmap = 'TTP'\n",
    "n_slice=177\n",
    "plt.figure(figsize=(10,10))\n",
    "plt.subplot(141)\n",
    "plt.imshow(map_ar[nmap][:,:,n_slice], cmap=asist)\n",
    "plt.subplot(142)\n",
    "plt.imshow(mask_ar[:,:,n_slice])\n",
    "plt.subplot(143)\n",
    "plt.imshow(map_ar_m[nmap][:,:,n_slice])\n",
    "plt.imshow(cell_ar_map[:,:,n_slice], alpha=0.5)\n",
    "plt.subplot(144)\n",
    "plt.imshow(cell_ar[:,:,n_slice], cmap=asist)\n",
    "plt.imshow(cell_ar_map[:,:,n_slice], alpha=0.5)"
   ]
  },
  {
   "cell_type": "code",
   "execution_count": null,
   "metadata": {},
   "outputs": [],
   "source": []
  },
  {
   "cell_type": "markdown",
   "metadata": {},
   "source": [
    "## 14. Statistical analysis"
   ]
  },
  {
   "cell_type": "code",
   "execution_count": null,
   "metadata": {},
   "outputs": [],
   "source": [
    "# pwi1 with mask limit\n",
    "for perf_map in list:\n",
    "    print (perf_map)\n",
    "    cor, pvalue = spearmanr(cell_ar_map[mask_ar>0], perf_map_blurred[perf_map][mask_ar>0])\n",
    "    print(cor, '\t', pvalue)\n",
    "    ols = OLS(endog=cell_ar_map[mask_ar>0], exog=perf_map_blurred[perf_map][mask_ar>0])\n",
    "    res = ols.fit()\n",
    "    print(res.rsquared_adj, '\t', res.pvalues[0])"
   ]
  },
  {
   "cell_type": "code",
   "execution_count": null,
   "metadata": {},
   "outputs": [],
   "source": [
    "# pwi1 with mask limit - cor sp\n",
    "for perf_map in list:\n",
    "    cor, pvalue = spearmanr(cell_ar_map[mask_ar>0], perf_map_blurred[perf_map][mask_ar>0])\n",
    "    print(cor)"
   ]
  },
  {
   "cell_type": "code",
   "execution_count": null,
   "metadata": {
    "scrolled": true
   },
   "outputs": [],
   "source": [
    "# pwi1 with mask limit - OLS\n",
    "for perf_map in list:\n",
    "    ols = OLS(endog=cell_ar_map[mask_ar>0], exog=perf_map_blurred[perf_map][mask_ar>0])\n",
    "    res = ols.fit()\n",
    "    print(res.rsquared_adj)"
   ]
  },
  {
   "cell_type": "code",
   "execution_count": null,
   "metadata": {},
   "outputs": [],
   "source": []
  },
  {
   "cell_type": "code",
   "execution_count": null,
   "metadata": {
    "scrolled": false
   },
   "outputs": [],
   "source": [
    "# pwi1 on cell density map\n",
    "for perf_map in list:\n",
    "    print (perf_map)\n",
    "    cor, pvalue = spearmanr(cell_ar_map[cell_ar_map>0], perf_map_blurred[perf_map][cell_ar_map>0])\n",
    "    print(cor, '\t', pvalue)\n",
    "    ols = OLS(endog=cell_ar_map[cell_ar_map>0], exog=perf_map_blurred[perf_map][cell_ar_map>0])\n",
    "    res = ols.fit()\n",
    "    print(res.rsquared_adj, '\t', res.pvalues[0])"
   ]
  },
  {
   "cell_type": "code",
   "execution_count": null,
   "metadata": {},
   "outputs": [],
   "source": [
    "# pwi1 on cell density map - cor sp\n",
    "for perf_map in list:\n",
    "    cor, pvalue = spearmanr(cell_ar_map[cell_ar_map>0], perf_map_blurred[perf_map][cell_ar_map>0])\n",
    "    print(cor)"
   ]
  },
  {
   "cell_type": "code",
   "execution_count": null,
   "metadata": {},
   "outputs": [],
   "source": [
    "# pwi1 on cell density map - OLS\n",
    "for perf_map in list:\n",
    "    ols = OLS(endog=cell_ar_map[cell_ar_map>0], exog=perf_map_blurred[perf_map][cell_ar_map>0])\n",
    "    res = ols.fit()\n",
    "    print(res.rsquared_adj)"
   ]
  },
  {
   "cell_type": "code",
   "execution_count": null,
   "metadata": {},
   "outputs": [],
   "source": []
  },
  {
   "cell_type": "code",
   "execution_count": null,
   "metadata": {
    "scrolled": false
   },
   "outputs": [],
   "source": [
    "# stat between pwi & pwi_cell\n",
    "for perf_map in list:\n",
    "    print (perf_map)\n",
    "    print('mask:', perf_map_blurred[perf_map][mask_ar>0].reshape(-1,1).mean(), '| mask-cell', perf_map_blurred[perf_map][cell_ar_map>0].reshape(-1,1).mean())\n",
    "    print(stats.mannwhitneyu(perf_map_blurred[perf_map][mask_ar>0].reshape(-1,1), perf_map_blurred[perf_map][cell_ar_map>0].reshape(-1,1)))\n",
    "    plt.figure(figsize=(15,3))\n",
    "    plt.hist(perf_map_blurred[perf_map][mask_ar>0], alpha=1, bins=33)\n",
    "    plt.hist(perf_map_blurred[perf_map][cell_ar_map>0], alpha=0.5, bins=33)\n",
    "    plt.show()"
   ]
  },
  {
   "cell_type": "code",
   "execution_count": null,
   "metadata": {},
   "outputs": [],
   "source": []
  }
 ],
 "metadata": {
  "kernelspec": {
   "display_name": "Python 3 (ipykernel)",
   "language": "python",
   "name": "python3"
  },
  "language_info": {
   "codemirror_mode": {
    "name": "ipython",
    "version": 3
   },
   "file_extension": ".py",
   "mimetype": "text/x-python",
   "name": "python",
   "nbconvert_exporter": "python",
   "pygments_lexer": "ipython3",
   "version": "3.8.12"
  }
 },
 "nbformat": 4,
 "nbformat_minor": 4
}
